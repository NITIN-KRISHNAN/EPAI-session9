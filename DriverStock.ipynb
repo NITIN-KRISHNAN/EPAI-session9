{
 "cells": [
  {
   "cell_type": "code",
   "execution_count": 1,
   "id": "0b7097ec-3f8f-4ec3-8e07-c7bfc2d461db",
   "metadata": {},
   "outputs": [],
   "source": [
    "import Stock\n"
   ]
  },
  {
   "cell_type": "code",
   "execution_count": 3,
   "id": "07e5b408-edbe-4368-8df0-c7b43c95f419",
   "metadata": {},
   "outputs": [
    {
     "name": "stdout",
     "output_type": "stream",
     "text": [
      "Collecting tabulate\n",
      "  Downloading https://files.pythonhosted.org/packages/ca/80/7c0cad11bd99985cfe7c09427ee0b4f9bd6b048bd13d4ffb32c6db237dfb/tabulate-0.8.9-py3-none-any.whl\n",
      "Installing collected packages: tabulate\n",
      "Successfully installed tabulate-0.8.9\n",
      "\u001b[33mWARNING: You are using pip version 19.2.3, however version 21.1.3 is available.\n",
      "You should consider upgrading via the 'pip install --upgrade pip' command.\u001b[0m\n"
     ]
    }
   ],
   "source": [
    "# to display stock market as a table\n",
    "!pip3 install tabulate\n",
    "from tabulate import tabulate"
   ]
  },
  {
   "cell_type": "code",
   "execution_count": 4,
   "id": "80168df7-145f-480b-a7fa-a8389567b997",
   "metadata": {},
   "outputs": [
    {
     "name": "stdout",
     "output_type": "stream",
     "text": [
      "Name                            Symbol      Open price (Rs.)    High price (Rs.)    Low price (Rs.)    Close price (Rs.)       Weight\n",
      "------------------------------  --------  ------------------  ------------------  -----------------  -------------------  -----------\n",
      "Greene Ltd                      Gre63               5621.53             6700               5084.42              6058.02   0.00971168\n",
      "Wright, Lopez and Kane          Wri46               4634.59             5157.14            4632.02              5011.68   0.0101038\n",
      "Patterson, Reeves and James     Pat12               7163.93             7723.26            5827.41              7447.03   0.00260452\n",
      "Reese-Pratt                     Ree24               6031.13             6552.33            5567.29              5629.03   0.0107153\n",
      "Lopez PLC                       Lop59               6061.38             7231.75            5005.82              6047.83   0.00789718\n",
      "Camacho-Howe                    Cam94               3571.5              3843.22            3234.55              3748.17   0.0134033\n",
      "Conrad Ltd                      Con43               8626.31            10029.4             7065.32              7195.88   0.0114776\n",
      "Hines-Simmons                   Hin97               4708.59             4892.58            4426.24              4749.92   0.0194279\n",
      "Randall, Edwards and King       Ran58               1100.07             1182.94             938.907             1013.9    0.011945\n",
      "Harris Inc                      Har53               1592.4              1763.19            1498.53              1607.8    0.0160419\n",
      "Peterson, Wallace and Chaney    Pet37               1856.52             2176.5             1839.53              1945.31   0.0133165\n",
      "Davis-Rogers                    Dav58               4482.21             5219.35            4394.31              4482.89   0.00511244\n",
      "Sherman, Bates and Pierce       She79               8059.52             8439.67            7010.94              8268.34   0.00189253\n",
      "Long, Sanchez and Butler        Lon57               1225.87             1412.96            1032.51              1044.02   0.00824266\n",
      "Hawkins LLC                     Haw11               1271.81             1352.79            1210.4               1226.91   0.0028312\n",
      "Cunningham LLC                  Cun50               5083.74             5549.65            4109.85              4318.41   3.52599e-05\n",
      "Thompson, Davenport and Vaughn  Tho6                3686.96             3804.88            3649.45              3733.45   0.00694876\n",
      "Bailey-Wright                   Bai43               2568.36             2865.59            2091.04              2348.71   0.0137084\n",
      "Wallace-Perez                   Wal96               1748.8              1964.08            1475.24              1573.86   0.011873\n",
      "King and Sons                   Kin51               9278.82            10821.8             7682.95              8462.19   0.0118963\n",
      "Hutchinson-Thompson             Hut18               1466.33             1484.04            1463.77              1482.14   0.00710932\n",
      "Wilson Inc                      Wil37               3410.43             4070.96            3226.54              3831.29   0.0180649\n",
      "Horne-Evans                     Hor0                4758.81             5548.31            4501                 5456.28   0.0137123\n",
      "Bullock LLC                     Bul68               6931                7034.15            5908.22              6730.76   0.00321754\n",
      "Mclaughlin-Davis                Mcl55               9665.31            10283.1             9461.45              9768.45   0.0194287\n",
      "Davis, Roberts and Mitchell     Dav10               2776.39             3174.11            2451.48              2923.64   0.0197953\n",
      "Rhodes-Smith                    Rho48               3667.76             3701.74            3651.06              3686.16   0.000580214\n",
      "Martinez Inc                    Mar68               2622.8              2752.09            2202.3               2680.63   0.00225588\n",
      "Evans and Sons                  Eva65               1326.82             1465.26            1087.52              1185.67   0.014392\n",
      "Brown, Sullivan and Hunt        Bro68               3679.57             4379.52            3171.56              3295.29   0.0091744\n",
      "Martin Inc                      Mar24               8860.07            10396.2             7670.78             10169.6    0.00100502\n",
      "Delgado, Conley and Jones       Del33               6388.87             6674.87            6365.65              6601.33   9.9627e-05\n",
      "Torres-Neal                     Tor65               6149.47             6833.68            5432.43              6625.44   0.00842377\n",
      "Foster-Brown                    Fos35               6117.61             6971.91            5934.54              6179.31   0.0124956\n",
      "Reid, Stephens and Roberts      Rei57               8189.04             9415.91            7269.98              8785.7    0.0206421\n",
      "Moreno, Martinez and Cox        Mor41               5532.25             6547.36            5514.03              6180.32   0.00978119\n",
      "Wiggins and Sons                Wig31               7050.78             7703.67            6386.9               7371.5    0.0169893\n",
      "Gardner-Henson                  Gar20               4915.21             4941.38            4756.57              4822.32   0.00329309\n",
      "Bradley, Allen and Perez        Bra98                471.451             510.51             427.545              495.71   0.00643841\n",
      "Reese Group                     Ree60               5359.54             5587.28            5109.15              5225.19   0.000499832\n",
      "Friedman, Reyes and Baker       Fri5                6556.81             6876.82            6247.5               6750.51   0.0210542\n",
      "Jennings PLC                    Jen55               7976.05             9523.08            6649.57              6702.1    0.0125637\n",
      "Edwards-Palmer                  Edw67               6385.05             7328.82            5290.9               6727.22   0.0179327\n",
      "Carpenter, Thomas and Lopez     Car60               3755.29             3863.53            3747.82              3771.14   0.0129757\n",
      "Taylor-Watkins                  Tay88               5328.19             5814.27            5327.52              5589.58   0.0168509\n",
      "Duran, Holt and Burke           Dur57               7522.08             7640.51            7031.87              7490.01   0.00601973\n",
      "Shelton-Reed                    She29                958.687            1038.75             903.975             1026.6    0.0184001\n",
      "Arnold, Rogers and Ortega       Arn59                195.769             231.763            174.409              222.413  0.0188682\n",
      "Gonzalez, Carpenter and Wilson  Gon35               7271.26             8000.43            5831.08              7548.01   0.0107419\n",
      "Fuentes-Williams                Fue48               8439.03             9479.95            8076.37              8654.73   0.00805154\n",
      "Adams, Mcdonald and Murphy      Ada97               5597.64             6545.61            5412.67              6040.4    0.00437359\n",
      "Jenkins-Martin                  Jen77               3212.72             3710.86            2893.6               3014.01   0.0126105\n",
      "Hernandez PLC                   Her28               5101.14             5985.08            4804.81              5564.79   0.00498751\n",
      "Mora PLC                        Mor88                449.514             513.76             364.012              490.374  0.00143735\n",
      "Roberts-Harrell                 Rob33               2733.83             2797.73            2208.75              2373.14   0.0170025\n",
      "Alvarez, Ramos and Juarez       Alv53               7038.74             7108.74            6503.68              6764.04   0.0197473\n",
      "Juarez, Gonzalez and Costa      Jua46               4019.71             4358.63            3567.12              3785.5    0.00417038\n",
      "Williams-Solis                  Wil33               7242.66             8345.72            6982.95              7928.52   0.0181638\n",
      "Roman and Sons                  Rom30                948.731            1008.33             887.097              930.636  0.0115246\n",
      "Rich, Herman and Strickland     Ric52               9322.42            10783.2             8822.06             10504      0.0130051\n",
      "Smith Ltd                       Smi26               7935.26             8968.88            6967.76              8696.76   0.0083455\n",
      "Mcgee, Cook and Hughes          Mcg12               2769.62             3255.46            2592.75              3082.61   0.011988\n",
      "Fletcher, Morris and Taylor     Fle94               3841.94             4227.91            3123.25              3305.26   0.00797776\n",
      "Francis, Brooks and Caldwell    Fra94               2264.09             2444.16            1953.28              2255.92   0.00903147\n",
      "Mahoney, Vega and Steele        Mah48               9517.36             9711.33            7617.52              8962.73   0.00427034\n",
      "Flores-Wang                     Flo71               9993.67            10647.5             9167.62             10075.3    0.0155801\n",
      "Maldonado-Ortiz                 Mal93                881.133             925.634            856.484              891.883  0.00469822\n",
      "Adkins Inc                      Adk88               7864.06             9163.57            6359.53              6792.11   0.0043846\n",
      "Farmer-Cobb                     Far28               8252.69             9094.5             7791.59              8381.16   0.00334998\n",
      "Williams Group                  Wil2                5853.27             6904.91            4720.47              6037.4    0.0198893\n",
      "Howard and Sons                 How9                3912.12             4205.12            3842.9               4162.33   0.00790873\n",
      "Wolfe Ltd                       Wol70               9945.85            10403.6             8035.11              9590.04   0.00246343\n",
      "Stanley Ltd                     Sta20               9311.07            10411.6             7619.91              7758.75   0.00815899\n",
      "Pratt, Barnes and Coleman       Pra14               3002.04             3267.49            2415.74              3168.66   0.00169953\n",
      "Giles-Garner                    Gil28               8708.7              9622.73            8251.53              8970.31   0.0154432\n",
      "Nichols LLC                     Nic72               1034.23             1052.39             987.915             1039.41   0.0191869\n",
      "Walker LLC                      Wal78               2513.43             2549.8             2333.64              2369.91   0.0187987\n",
      "White, York and Wallace         Whi13               2837.37             2974.67            2515.15              2771.16   0.00537406\n",
      "Jackson-Colon                   Jac44               9048.5             10095.9             7804.54              8803.7    0.020188\n",
      "Cummings LLC                    Cum72               9058.66             9286.56            8825.37              8879.72   0.016661\n",
      "Jones-Carlson                   Jon30               5775.24             6701.53            5234.75              6694.39   0.00416724\n",
      "Atkins and Sons                 Atk98               8201.77             9078.2             7497.23              8383.83   0.00853987\n",
      "Barajas, Willis and Adams       Bar33               3101.35             3466.7             2561.27              3035.79   0.0154906\n",
      "Collins-Beasley                 Col54               5608.97             5951.75            4729.15              5222.89   0.00730671\n",
      "Walker LLC                      Wal89               4516.27             5123.97            3648.31              4386.82   0.0156502\n",
      "Randolph Ltd                    Ran53               6887.57             7809.15            6044.67              6582.79   0.0106425\n",
      "Ford, Johnson and Keller        For77               9605.75            10120.1             8354.41              9160.3    0.0102502\n",
      "Meyer, Rodriguez and Allen      Mey96               4138.33             4483.39            3755.61              4324.97   0.00311616\n",
      "Thompson Ltd                    Tho3                3711.87             3946.82            3054.53              3768.27   0.00855887\n",
      "Knapp-Cortez                    Kna54               2976.6              3425.71            2712.03              2777.83   0.00387899\n",
      "Pennington LLC                  Pen8                8995.18             9000.74            8192.82              8818.64   0.00915316\n",
      "Sanchez-Mccormick               San46               2041.92             2262.03            1971.35              2186.83   0.00226425\n",
      "George, Price and Grant         Geo14               2362.9              2618.94            2013.51              2229.08   0.00480156\n",
      "Moss-Coleman                    Mos65               7104.43             7114.15            6194.14              6486      0.0151579\n",
      "Larson, Walker and Scott        Lar5                2050.31             2396.15            1998.8               2052.03   0.0160015\n",
      "Williams Ltd                    Wil37                321.805             374.393            304.009              354.477  0.0099944\n",
      "Villanueva, Estrada and Parker  Vil4                6535.42             6924.57            5855                 6611.49   0.00566579\n",
      "Baker LLC                       Bak67               1963.32             2096.21            1758.75              1924.3    0.00409376\n",
      "Johnson PLC                     Joh84               6195.66             6766.05            5266.56              6465.27   0.00372949\n",
      "Henderson-Hicks                 Hen55               2560.46             3024.09            2260.87              2586.84   0.00907386\n"
     ]
    }
   ],
   "source": [
    "# Print the stocks present in the stock market\n",
    "stock_market = Stock.create_stock_market()\n",
    "display_list = list()\n",
    "for stock in stock_market:\n",
    "    display_list.append(list(stock))\n",
    "print(tabulate(display_list, headers=['Name', 'Symbol',  'Open price (Rs.)', 'High price (Rs.)',\n",
    "                                      'Low price (Rs.)', 'Close price (Rs.)', 'Weight']))"
   ]
  },
  {
   "cell_type": "code",
   "execution_count": 5,
   "id": "1df7a92e-dc47-44bb-ab3d-8969c0b2351a",
   "metadata": {},
   "outputs": [
    {
     "name": "stdout",
     "output_type": "stream",
     "text": [
      "Index(open=5036.917121671804, high=5558.790612516302, low=4540.363415423095, close=5049.373417632769)\n"
     ]
    }
   ],
   "source": [
    "# Calculate index changes\n",
    "index = Stock.calculate_index(stock_market)\n",
    "\n",
    "print(index)"
   ]
  },
  {
   "cell_type": "code",
   "execution_count": null,
   "id": "6af8cf34-acea-4f3e-afbf-3a67abdad62b",
   "metadata": {},
   "outputs": [],
   "source": []
  }
 ],
 "metadata": {
  "kernelspec": {
   "display_name": "Python 3 (ipykernel)",
   "language": "python",
   "name": "python3"
  },
  "language_info": {
   "codemirror_mode": {
    "name": "ipython",
    "version": 3
   },
   "file_extension": ".py",
   "mimetype": "text/x-python",
   "name": "python",
   "nbconvert_exporter": "python",
   "pygments_lexer": "ipython3",
   "version": "3.8.1"
  }
 },
 "nbformat": 4,
 "nbformat_minor": 5
}
