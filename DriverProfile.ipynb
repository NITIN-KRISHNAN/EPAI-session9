{
 "cells": [
  {
   "cell_type": "code",
   "execution_count": 1,
   "id": "ecb4d046-eb73-4950-b06a-b0aa16abb83b",
   "metadata": {},
   "outputs": [],
   "source": [
    "from faker import Faker\n",
    "import ProfileDict\n",
    "import ProfileNamedTuple"
   ]
  },
  {
   "cell_type": "code",
   "execution_count": 2,
   "id": "909587b1-a399-4e65-ac02-a5b67b00bea0",
   "metadata": {},
   "outputs": [],
   "source": [
    "\n",
    "profile_named_tuple = ProfileNamedTuple.form_profile_named_tuple()\n",
    "\n",
    "#profile_dict = Dict.form_profile_dict()\n",
    "profile_dict = ProfileDict.form_profile_dict_from_namedtuple(profile_named_tuple)"
   ]
  },
  {
   "cell_type": "code",
   "execution_count": 13,
   "id": "58d011a5-7d40-423c-b4fa-904c4eb11dc4",
   "metadata": {},
   "outputs": [
    {
     "name": "stdout",
     "output_type": "stream",
     "text": [
      "largest blood type and time taken by namedtuple is  ('A+', 0.0027022361755371094)\n",
      "largest blood type and time taken time taken by dict is  ('A+', 0.005786895751953125)\n"
     ]
    }
   ],
   "source": [
    "\n",
    "# largest blood type\n",
    "dict_largest_blood_type = ProfileDict.calculate_largest_blood_type(profile_dict)\n",
    "namedtuple_largest_blood_type = ProfileNamedTuple.calculate_largest_blood_type(profile_named_tuple)\n",
    "print('largest blood type and time taken by namedtuple is ', namedtuple_largest_blood_type)\n",
    "print('largest blood type and time taken time taken by dict is ', dict_largest_blood_type)"
   ]
  },
  {
   "cell_type": "code",
   "execution_count": 14,
   "id": "31dc5a83-05c2-450d-be34-e1c217e3779d",
   "metadata": {},
   "outputs": [
    {
     "name": "stdout",
     "output_type": "stream",
     "text": [
      "mean current location and time taken by namedtuple is  ((Decimal('0.21263269825'), Decimal('-1.0908032496')), 0.006278276443481445)\n",
      "mean current location and time taken time taken by dict is  ((Decimal('0.21263269825'), Decimal('-1.0908032496')), 0.008318901062011719)\n"
     ]
    }
   ],
   "source": [
    "\n",
    "# mean current location\n",
    "dict_mean_current_location = ProfileDict.calculate_mean_current_location(profile_dict)\n",
    "namedtuple_mean_current_location = ProfileNamedTuple.calculate_mean_current_location(profile_named_tuple)\n",
    "print('mean current location and time taken by namedtuple is ', namedtuple_mean_current_location)\n",
    "print('mean current location and time taken time taken by dict is ', dict_mean_current_location)"
   ]
  },
  {
   "cell_type": "code",
   "execution_count": 15,
   "id": "17d107d1-1244-446f-b9da-0bceeb6a813a",
   "metadata": {},
   "outputs": [
    {
     "name": "stdout",
     "output_type": "stream",
     "text": [
      "oldest person age and time taken by namedtuple is  (115.99726214921287, 0.024785995483398438)\n",
      "oldest person age and time taken time taken by dict is  (115.99726214921287, 0.08483624458312988)\n"
     ]
    }
   ],
   "source": [
    "# oldest person age\n",
    "dict_oldest_person_age = ProfileDict.calculate_oldest_person_age(profile_dict)\n",
    "namedtuple_oldest_person_age = ProfileNamedTuple.calculate_oldest_person_age(profile_named_tuple)\n",
    "print('oldest person age and time taken by namedtuple is ', namedtuple_oldest_person_age)\n",
    "print('oldest person age and time taken time taken by dict is ', dict_oldest_person_age)"
   ]
  },
  {
   "cell_type": "code",
   "execution_count": 17,
   "id": "1efc1cac-0c2f-47f4-b62a-30daea032784",
   "metadata": {},
   "outputs": [
    {
     "name": "stdout",
     "output_type": "stream",
     "text": [
      "Average person age and time taken by namedtuple is  (57.625066940451745, 0.017167091369628906)\n",
      "Average person age and time taken time taken by dict is  (57.625066940451745, 0.022420883178710938)\n"
     ]
    }
   ],
   "source": [
    "\n",
    "# Average age\n",
    "dict_avg_age = ProfileDict.calculate_avg_age(profile_dict)\n",
    "namedtuple_avg_age = ProfileNamedTuple.calculate_avg_age(profile_named_tuple)\n",
    "\n",
    "print('Average person age and time taken by namedtuple is ', namedtuple_avg_age)\n",
    "print('Average person age and time taken time taken by dict is ', dict_avg_age)"
   ]
  },
  {
   "cell_type": "markdown",
   "id": "d0c4b159-208e-47cc-b88f-776eb485fe4f",
   "metadata": {},
   "source": [
    "## Conclusion\n",
    "### From the logs above the time taken by namedtuple is less than dict\n",
    "| Task | Time taken by namedtuple | Time taken by dict |\n",
    "| --- | --- | --- |\n",
    "| Largest Blood group | 0.0027022361755371094 | 0.005786895751953125 |\n",
    "| Mean current location | 0.006278276443481445 | 0.008318901062011719 |\n",
    "| Oldest person age | 0.024785995483398438 | 0.08483624458312988 |\n",
    "| Average age | 0.017167091369628906 | 0.022420883178710938 |"
   ]
  }
 ],
 "metadata": {
  "kernelspec": {
   "display_name": "Python 3 (ipykernel)",
   "language": "python",
   "name": "python3"
  },
  "language_info": {
   "codemirror_mode": {
    "name": "ipython",
    "version": 3
   },
   "file_extension": ".py",
   "mimetype": "text/x-python",
   "name": "python",
   "nbconvert_exporter": "python",
   "pygments_lexer": "ipython3",
   "version": "3.8.1"
  }
 },
 "nbformat": 4,
 "nbformat_minor": 5
}
